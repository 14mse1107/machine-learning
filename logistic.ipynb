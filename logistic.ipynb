{
 "cells": [
  {
   "cell_type": "code",
   "execution_count": 1,
   "metadata": {},
   "outputs": [],
   "source": [
    "import numpy as np\n",
    "import pandas as pd\n",
    "import matplotlib.pyplot as plt\n",
    "from sklearn.model_selection import train_test_split\n",
    "%matplotlib inline\n",
    "from sklearn.preprocessing import LabelEncoder,OneHotEncoder\n",
    "from sklearn.metrics import r2_score\n",
    "from sklearn.preprocessing import StandardScaler"
   ]
  },
  {
   "cell_type": "code",
   "execution_count": 2,
   "metadata": {},
   "outputs": [],
   "source": [
    "df=pd.read_csv('Sales.csv')"
   ]
  },
  {
   "cell_type": "code",
   "execution_count": 3,
   "metadata": {},
   "outputs": [],
   "source": [
    "df_new = df.pop('Price')\n",
    "df['target']= df_new\n",
    "df = df.rename(columns={'target':'Price'})"
   ]
  },
  {
   "cell_type": "code",
   "execution_count": 4,
   "metadata": {},
   "outputs": [],
   "source": [
    "df.drop(['Name','Country','City'],axis=1, inplace=True)"
   ]
  },
  {
   "cell_type": "code",
   "execution_count": 5,
   "metadata": {},
   "outputs": [],
   "source": [
    "le=LabelEncoder()\n",
    "df['Payment_Type']=le.fit_transform(df['Payment_Type'])"
   ]
  },
  {
   "cell_type": "code",
   "execution_count": 6,
   "metadata": {},
   "outputs": [],
   "source": [
    "df['Price']= df['Price'].str.replace(',','')\n",
    "df['Price'] = df['Price'].astype(int)"
   ]
  },
  {
   "cell_type": "code",
   "execution_count": 7,
   "metadata": {},
   "outputs": [],
   "source": [
    "df['Longitude']=df['Longitude'].astype(str)\n",
    "df['Longitude']= df['Longitude'].str.replace('-','')\n",
    "df['Longitude'] = df['Longitude'].astype(float)"
   ]
  },
  {
   "cell_type": "code",
   "execution_count": 8,
   "metadata": {},
   "outputs": [],
   "source": [
    "df['Latitude']=df['Latitude'].astype(str)\n",
    "df['Latitude']= df['Latitude'].str.replace('-','')\n",
    "df['Latitude'] = df['Latitude'].astype(float)"
   ]
  },
  {
   "cell_type": "code",
   "execution_count": 10,
   "metadata": {},
   "outputs": [],
   "source": [
    "x=df.iloc[:,:-1].values\n",
    "y=df.iloc[:,-1].values"
   ]
  },
  {
   "cell_type": "code",
   "execution_count": 11,
   "metadata": {},
   "outputs": [],
   "source": [
    "x_train,x_test,y_train,y_test=train_test_split(x,y,test_size=0.2,random_state=0)"
   ]
  },
  {
   "cell_type": "code",
   "execution_count": 12,
   "metadata": {},
   "outputs": [],
   "source": [
    "sc=StandardScaler()\n",
    "x_train = sc.fit_transform(x_train)\n",
    "x_test= sc.transform(x_test)"
   ]
  },
  {
   "cell_type": "code",
   "execution_count": 13,
   "metadata": {},
   "outputs": [],
   "source": [
    "from sklearn.linear_model import LogisticRegression"
   ]
  },
  {
   "cell_type": "code",
   "execution_count": 14,
   "metadata": {},
   "outputs": [],
   "source": [
    "re=LogisticRegression()"
   ]
  },
  {
   "cell_type": "code",
   "execution_count": 19,
   "metadata": {},
   "outputs": [],
   "source": [
    "re.fit(x_train,y_train)\n",
    "y_pred=re.predict(x_test)"
   ]
  },
  {
   "cell_type": "code",
   "execution_count": 20,
   "metadata": {},
   "outputs": [
    {
     "data": {
      "text/plain": [
       "array([1200, 1200, 1200, 1200, 1200, 1200, 1200, 1200, 1200, 1200, 1200,\n",
       "       1200, 1200, 1200, 1200, 1200, 1200, 1200, 1200, 1200, 1200, 1200,\n",
       "       1200, 1200, 1200, 1200, 1200, 1200, 1200, 1200, 1200, 1200, 1200,\n",
       "       1200, 1200, 1200, 1200, 1200, 1200, 1200, 1200, 1200, 1200, 1200,\n",
       "       1200, 1200, 1200, 1200, 1200, 1200, 1200, 1200, 1200, 1200, 1200,\n",
       "       1200, 1200, 1200, 1200, 1200, 1200, 1200, 1200, 1200, 1200, 1200,\n",
       "       1200, 1200, 1200, 1200, 1200, 1200, 1200, 1200, 1200, 1200, 1200,\n",
       "       1200, 1200, 1200, 1200, 1200, 1200, 1200, 1200, 1200, 1200, 1200,\n",
       "       1200, 1200, 1200, 1200, 1200, 1200, 1200, 1200, 1200, 1200, 1200,\n",
       "       1200, 1200, 1200, 1200, 1200, 1200, 1200, 1200, 1200, 1200, 1200,\n",
       "       1200, 1200, 1200, 1200, 1200, 1200, 1200, 1200, 1200, 1200, 1200,\n",
       "       1200, 1200, 1200, 1200, 1200, 1200, 1200, 1200, 1200, 1200, 1200,\n",
       "       1200, 1200, 1200, 1200, 1200, 1200, 1200, 1200, 1200, 1200, 1200,\n",
       "       1200, 1200, 1200, 1200, 1200, 1200, 1200, 1200, 1200, 1200, 1200,\n",
       "       1200, 1200, 1200, 1200, 1200, 1200, 1200, 1200, 1200, 1200, 1200,\n",
       "       1200, 1200, 1200, 1200, 1200, 1200, 1200, 1200, 1200, 1200, 1200,\n",
       "       1200, 1200, 1200, 1200, 1200, 1200, 1200, 1200, 1200, 1200, 1200,\n",
       "       1200, 1200, 1200, 1200, 1200, 1200, 1200, 1200, 1200, 1200, 1200,\n",
       "       1200, 1200])"
      ]
     },
     "execution_count": 20,
     "metadata": {},
     "output_type": "execute_result"
    }
   ],
   "source": [
    "y_pred"
   ]
  },
  {
   "cell_type": "code",
   "execution_count": 21,
   "metadata": {},
   "outputs": [
    {
     "data": {
      "text/plain": [
       "-0.1275135755450234"
      ]
     },
     "execution_count": 21,
     "metadata": {},
     "output_type": "execute_result"
    }
   ],
   "source": [
    "r2_score(y_test, y_pred)"
   ]
  },
  {
   "cell_type": "code",
   "execution_count": 23,
   "metadata": {},
   "outputs": [
    {
     "data": {
      "text/plain": [
       "0.855"
      ]
     },
     "execution_count": 23,
     "metadata": {},
     "output_type": "execute_result"
    }
   ],
   "source": [
    "re.score(x_test,y_test)"
   ]
  },
  {
   "cell_type": "code",
   "execution_count": null,
   "metadata": {
    "scrolled": true
   },
   "outputs": [],
   "source": [
    "\n"
   ]
  },
  {
   "cell_type": "code",
   "execution_count": 34,
   "metadata": {},
   "outputs": [
    {
     "data": {
      "text/plain": [
       "array([1200])"
      ]
     },
     "execution_count": 34,
     "metadata": {},
     "output_type": "execute_result"
    }
   ],
   "source": [
    "re.predict([[-0.189896,-0.921836,1.113296]])"
   ]
  },
  {
   "cell_type": "code",
   "execution_count": null,
   "metadata": {},
   "outputs": [],
   "source": []
  }
 ],
 "metadata": {
  "kernelspec": {
   "display_name": "Python 3",
   "language": "python",
   "name": "python3"
  },
  "language_info": {
   "codemirror_mode": {
    "name": "ipython",
    "version": 3
   },
   "file_extension": ".py",
   "mimetype": "text/x-python",
   "name": "python",
   "nbconvert_exporter": "python",
   "pygments_lexer": "ipython3",
   "version": "3.6.5"
  }
 },
 "nbformat": 4,
 "nbformat_minor": 2
}
